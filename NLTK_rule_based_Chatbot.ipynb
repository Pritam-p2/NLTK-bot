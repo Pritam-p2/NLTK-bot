{
  "cells": [
    {
      "cell_type": "code",
      "execution_count": null,
      "metadata": {
        "id": "8n7YO919BXh8"
      },
      "outputs": [],
      "source": [
        "import numpy as np\n",
        "import nltk\n",
        "import string\n",
        "import random\n",
        "from nltk.tokenize import sent_tokenize"
      ]
    },
    {
      "cell_type": "markdown",
      "metadata": {
        "id": "_BTOWukcBvYk"
      },
      "source": [
        "**READING THE CORPUS OF TEXT**"
      ]
    },
    {
      "cell_type": "code",
      "execution_count": null,
      "metadata": {
        "id": "omQAkI3vBugL"
      },
      "outputs": [],
      "source": [
        "f=open('/data.txt','r',errors='ignore')\n",
        "raw_doc = f.read()"
      ]
    },
    {
      "cell_type": "code",
      "execution_count": null,
      "metadata": {
        "colab": {
          "base_uri": "https://localhost:8080/"
        },
        "id": "VYltakpcDbI4",
        "outputId": "8c65b58a-2b8b-4cc1-8f1b-7592383a08eb"
      },
      "outputs": [
        {
          "name": "stderr",
          "output_type": "stream",
          "text": [
            "[nltk_data] Downloading package punkt to /root/nltk_data...\n",
            "[nltk_data]   Package punkt is already up-to-date!\n",
            "[nltk_data] Downloading package wordnet to /root/nltk_data...\n",
            "[nltk_data]   Package wordnet is already up-to-date!\n",
            "[nltk_data] Downloading package omw-1.4 to /root/nltk_data...\n",
            "[nltk_data]   Package omw-1.4 is already up-to-date!\n"
          ]
        }
      ],
      "source": [
        "raw_doc = raw_doc.lower()\n",
        "nltk.download('punkt') #basically it splits paragraph wrt .\n",
        "nltk.download('wordnet')#contains meaning of english words etc\n",
        "nltk.download('omw-1.4')\n",
        "sentence_tokens = nltk.sent_tokenize(raw_doc)\n",
        "word_tokens = nltk.word_tokenize(raw_doc)"
      ]
    },
    {
      "cell_type": "code",
      "execution_count": null,
      "metadata": {
        "colab": {
          "base_uri": "https://localhost:8080/",
          "height": 163
        },
        "id": "lbYLaHSyElOh",
        "outputId": "db166812-6986-4677-cd44-4829d79707c6"
      },
      "outputs": [
        {
          "data": {
            "application/vnd.google.colaboratory.intrinsic+json": {
              "type": "string"
            },
            "text/plain": [
              "'shiva is known as \"the destroyer\" within the trimurti, the hindu trinity which also includes brahma and vishnu.[2][15] in the shaivite tradition, shiva is the supreme lord who creates, protects and transforms the universe.[9][10][11] in the goddess-oriented shakta tradition, the supreme goddess (devi) is regarded as the energy and creative power (shakti) and the equal complementary partner of shiva.[16][17] shiva is one of the five equivalent deities in panchayatana puja of the smarta tradition of hinduism.[18]\\n\\nshiva has many aspects, benevolent as well as fearsome. in benevolent aspects, he is depicted as an omniscient yogi who lives an ascetic life on mount kailash[2] as well as a householder with his wife parvati and his three children, ganesha, kartikeya and ashokasundari. in his fierce aspects, he is often depicted slaying demons. shiva is also known as adiyogi shiva, regarded as the patron god of yoga, meditation and the arts.[19]\\n\\nthe iconographical attributes of shiva are the serpent around his neck, the adorning crescent moon, the holy river ganga flowing from his matted hair, the third eye on his forehead (the eye that turns everything in front of it into ashes when opened), the trishula or trident as his weapon, and the damaru drum. he is usually worshipped in the aniconic form of lingam.[3]\\n\\nshiva has pre-vedic roots,[20] and the figure of shiva evolved as an amalgamation of various older non-vedic and vedic deities, including the rigvedic storm god rudra who may also have non-vedic origins,[21] into a single major deity.[22] shiva is a pan-hindu deity, revered widely by hindus in india, nepal, sri lanka and indonesia (especially in java and bali).[23]'"
            ]
          },
          "execution_count": 4,
          "metadata": {},
          "output_type": "execute_result"
        }
      ],
      "source": [
        "raw_doc"
      ]
    },
    {
      "cell_type": "code",
      "execution_count": null,
      "metadata": {
        "id": "8uD7qc-OGlSL"
      },
      "outputs": [],
      "source": [
        "sentence_tokens = nltk.sent_tokenize(raw_doc)#this is working with the help of punkt\n",
        "word_tokens = nltk.word_tokenize(raw_doc)"
      ]
    },
    {
      "cell_type": "markdown",
      "metadata": {
        "id": "ejIcyu4QLqHT"
      },
      "source": [
        "**AFTER TOKENIZATION**"
      ]
    },
    {
      "cell_type": "code",
      "execution_count": null,
      "metadata": {
        "colab": {
          "base_uri": "https://localhost:8080/",
          "height": 54
        },
        "id": "_0Kd5DliLKnQ",
        "outputId": "8a0f0d0e-e866-48a2-aeec-09f092be7bb9"
      },
      "outputs": [
        {
          "data": {
            "application/vnd.google.colaboratory.intrinsic+json": {
              "type": "string"
            },
            "text/plain": [
              "'[9][10][11] in the goddess-oriented shakta tradition, the supreme goddess (devi) is regarded as the energy and creative power (shakti) and the equal complementary partner of shiva.'"
            ]
          },
          "execution_count": 6,
          "metadata": {},
          "output_type": "execute_result"
        }
      ],
      "source": [
        "sentence_tokens[2]"
      ]
    },
    {
      "cell_type": "code",
      "execution_count": null,
      "metadata": {
        "colab": {
          "base_uri": "https://localhost:8080/"
        },
        "id": "afJzcMnaLzPi",
        "outputId": "b3204fe7-74c3-49e1-f31c-710a2ea88794"
      },
      "outputs": [
        {
          "data": {
            "text/plain": [
              "list"
            ]
          },
          "execution_count": 7,
          "metadata": {},
          "output_type": "execute_result"
        }
      ],
      "source": [
        "type(sentence_tokens)"
      ]
    },
    {
      "cell_type": "code",
      "execution_count": null,
      "metadata": {
        "colab": {
          "base_uri": "https://localhost:8080/"
        },
        "id": "Zqq45ZGuL9p2",
        "outputId": "4d140fe8-f922-4e7a-ebaa-6436f9eb7bf6"
      },
      "outputs": [
        {
          "data": {
            "text/plain": [
              "13"
            ]
          },
          "execution_count": 8,
          "metadata": {},
          "output_type": "execute_result"
        }
      ],
      "source": [
        "len(sentence_tokens)"
      ]
    },
    {
      "cell_type": "code",
      "execution_count": null,
      "metadata": {
        "colab": {
          "base_uri": "https://localhost:8080/"
        },
        "id": "Fbark6qGMEx8",
        "outputId": "286a5252-7fd0-4df4-cdab-138955715077"
      },
      "outputs": [
        {
          "data": {
            "text/plain": [
              "359"
            ]
          },
          "execution_count": 9,
          "metadata": {},
          "output_type": "execute_result"
        }
      ],
      "source": [
        "len(word_tokens)"
      ]
    },
    {
      "cell_type": "code",
      "execution_count": null,
      "metadata": {
        "colab": {
          "base_uri": "https://localhost:8080/",
          "height": 36
        },
        "id": "XNwKk3x1MNmX",
        "outputId": "179b990b-b071-4da2-fcb4-07c988104d0d"
      },
      "outputs": [
        {
          "data": {
            "application/vnd.google.colaboratory.intrinsic+json": {
              "type": "string"
            },
            "text/plain": [
              "'known'"
            ]
          },
          "execution_count": 10,
          "metadata": {},
          "output_type": "execute_result"
        }
      ],
      "source": [
        "word_tokens[2]"
      ]
    },
    {
      "cell_type": "markdown",
      "metadata": {
        "id": "bgWjYK8vMUsn"
      },
      "source": [
        "**PERFORMING TEXT-PREPROCESSING STEPS**"
      ]
    },
    {
      "cell_type": "code",
      "execution_count": null,
      "metadata": {
        "id": "7AWwDjvAMRsS"
      },
      "outputs": [],
      "source": [
        "inner = nltk.stem.WordNetLemmatizer()\n",
        "def LemTokens(tokens):\n",
        "  return [inner.lemmatize(token) for token in tokens]\n",
        "remove_punc_dict = dict((ord(punct),None) for punct in string.punctuation) \n",
        "def LemNormalize(text):\n",
        "  return LemTokens(nltk.word_tokenize(text.lower().translate(remove_punc_dict)))"
      ]
    },
    {
      "cell_type": "markdown",
      "metadata": {
        "id": "9-CrxEAWYLAr"
      },
      "source": [
        "**DEFINE GREETING FUNCTIONS**"
      ]
    },
    {
      "cell_type": "code",
      "execution_count": null,
      "metadata": {
        "id": "ouYKrTjFYBFZ"
      },
      "outputs": [],
      "source": [
        "greet_inputs = ('hello','hi','whassup','how are you?')\n",
        "greet_responses = ('hi','hey','hey there!','There there!')\n",
        "def greet(sentence):\n",
        "  for word in sentence.split():\n",
        "    if word.lower() in greet_inputs:\n",
        "      return random.choice(greet_responses)"
      ]
    },
    {
      "cell_type": "markdown",
      "metadata": {
        "id": "6wZVcK8vZETk"
      },
      "source": [
        "**RESPONSE GENERATION BY THE BOT**"
      ]
    },
    {
      "cell_type": "code",
      "execution_count": null,
      "metadata": {
        "id": "l4i_srhXZDjl"
      },
      "outputs": [],
      "source": [
        "from sklearn.feature_extraction.text import TfidfVectorizer \n",
        "from sklearn.metrics.pairwise import cosine_similarity"
      ]
    },
    {
      "cell_type": "code",
      "execution_count": null,
      "metadata": {
        "id": "DiO07VXWaIkX"
      },
      "outputs": [],
      "source": [
        "def response(user_response):\n",
        "  robot_response = ''\n",
        "  TfidVec = TfidfVectorizer(tokenizer = LemNormalize,stop_words='english')\n",
        "  tfidf = TfidVec.fit_transform(sentence_tokens)\n",
        "  vals = cosine_similarity(tfidf[-1],tfidf)\n",
        "  idx = vals.argsort()[0][-2]\n",
        "  flat=vals.flatten()\n",
        "  flat.sort()\n",
        "  req_tfidf = flat[-2]\n",
        "  if (req_tfidf==0):\n",
        "    robot_response = robot_response + \"I am sorry. Unable to understand you!\"\n",
        "    return robot_response\n",
        "  else:\n",
        "    robot_response = robot_response + sentence_tokens[idx]\n",
        "    return robot_response"
      ]
    },
    {
      "cell_type": "markdown",
      "metadata": {
        "id": "tM1PqfT7m-fd"
      },
      "source": [
        "**DEFINING THE CHATFLOW**"
      ]
    },
    {
      "cell_type": "code",
      "execution_count": null,
      "metadata": {
        "colab": {
          "background_save": true,
          "base_uri": "https://localhost:8080/"
        },
        "id": "8u7lLVHdhFhn",
        "outputId": "157fea67-351a-4a4d-9a73-2dcd348266ad"
      },
      "outputs": [
        {
          "name": "stdout",
          "output_type": "stream",
          "text": [
            "Hello! I am the learning Bot. Start typing your text after greeting to talk to me. For ending convo type bye!\n",
            "Bot: There there!\n",
            "Bot: "
          ]
        },
        {
          "name": "stderr",
          "output_type": "stream",
          "text": [
            "/usr/local/lib/python3.8/dist-packages/sklearn/feature_extraction/text.py:396: UserWarning: Your stop_words may be inconsistent with your preprocessing. Tokenizing the stop words generated tokens ['ha', 'le', 'u', 'wa'] not in stop_words.\n",
            "  warnings.warn(\n"
          ]
        },
        {
          "name": "stdout",
          "output_type": "stream",
          "text": [
            "shiva is also known as adiyogi shiva, regarded as the patron god of yoga, meditation and the arts.\n",
            "Bot: [19]\n",
            "\n",
            "the iconographical attributes of shiva are the serpent around his neck, the adorning crescent moon, the holy river ganga flowing from his matted hair, the third eye on his forehead (the eye that turns everything in front of it into ashes when opened), the trishula or trident as his weapon, and the damaru drum.\n",
            "Bot: [3]\n",
            "\n",
            "shiva has pre-vedic roots,[20] and the figure of shiva evolved as an amalgamation of various older non-vedic and vedic deities, including the rigvedic storm god rudra who may also have non-vedic origins,[21] into a single major deity.\n"
          ]
        }
      ],
      "source": [
        "flag=True\n",
        "print('Hello! I am the learning Bot. Start typing your text after greeting to talk to me. For ending convo type bye!')\n",
        "while(flag==True):\n",
        "  user_response = input()\n",
        "  user_response = user_response.lower()\n",
        "  if (user_response != 'bye'):\n",
        "    if (user_response == 'thank you' or user_response=='thanks'):\n",
        "      flag = False\n",
        "      print('Bot: You are Welcome..')\n",
        "    else:\n",
        "      if(greet(user_response)!=None):\n",
        "        print('Bot: ' + greet(user_response))\n",
        "      else:\n",
        "        sentence_tokens.append(user_response)\n",
        "        word_tokens = word_tokens + nltk.word_tokenize(user_response)\n",
        "        final_words = list(set(word_tokens))\n",
        "        print('Bot: ',end='')\n",
        "        print(response(user_response))\n",
        "        sentence_tokens.remove(user_response)\n",
        "  else:\n",
        "    flag = False\n",
        "    print('Bot: Goodbye!')        "
      ]
    },
    {
      "cell_type": "code",
      "execution_count": null,
      "metadata": {
        "id": "eqfSamrFsrtl"
      },
      "outputs": [],
      "source": []
    }
  ],
  "metadata": {
    "colab": {
      "provenance": []
    },
    "kernelspec": {
      "display_name": "Python 3",
      "name": "python3"
    },
    "language_info": {
      "name": "python"
    }
  },
  "nbformat": 4,
  "nbformat_minor": 0
}